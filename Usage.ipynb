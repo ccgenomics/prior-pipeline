{
 "cells": [
  {
   "cell_type": "code",
   "execution_count": null,
   "metadata": {},
   "outputs": [],
   "source": []
  },
  {
   "cell_type": "code",
   "execution_count": null,
   "metadata": {},
   "outputs": [],
   "source": []
  },
  {
   "cell_type": "code",
   "execution_count": 1,
   "metadata": {},
   "outputs": [],
   "source": [
    "import pandas as pd"
   ]
  },
  {
   "cell_type": "code",
   "execution_count": 14,
   "metadata": {},
   "outputs": [],
   "source": [
    "clin = pd.read_csv('../data/data/TCGA_Metabric_clinical.csv', index_col=0)"
   ]
  },
  {
   "cell_type": "code",
   "execution_count": 36,
   "metadata": {},
   "outputs": [],
   "source": [
    "for target in list(clin):\n",
    "    kept = clin[~clin[target].isna()][[target]]\n",
    "    kept.to_csv('../data/TCGA_Metabric_'+target.replace(' ', '_')+'.csv')"
   ]
  },
  {
   "cell_type": "markdown",
   "metadata": {},
   "source": [
    "# Define custom models"
   ]
  },
  {
   "cell_type": "code",
   "execution_count": 91,
   "metadata": {},
   "outputs": [],
   "source": [
    "class MyMLPClassifier(MLPClassifier):\n",
    "    def __init__(self, hidden_layer_width=2, hidden_layer_depth=2, **kwargs):\n",
    "        hidden_layer_sizes = tuple([ int(hidden_layer_width)] * int(hidden_layer_depth))\n",
    "        super().__init__(hidden_layer_sizes=hidden_layer_sizes, **kwargs)\n"
   ]
  },
  {
   "cell_type": "markdown",
   "metadata": {},
   "source": [
    "# Import MongoDB credentials"
   ]
  },
  {
   "cell_type": "code",
   "execution_count": 7,
   "metadata": {},
   "outputs": [],
   "source": [
    "import csv\n",
    "with open('credentials.csv') as csvfile:\n",
    "    reader = csv.DictReader(csvfile)\n",
    "    for row in reader:\n",
    "        mongo_user = row['username']\n",
    "        mongo_pwd = row['pwd']\n",
    "        mongo_host = row['host']        "
   ]
  },
  {
   "cell_type": "markdown",
   "metadata": {},
   "source": [
    "# Usage"
   ]
  },
  {
   "cell_type": "code",
   "execution_count": 10,
   "metadata": {},
   "outputs": [
    {
     "ename": "ValueError",
     "evalue": "('unrecognized protocol for MongoJobs', 'mongodb')",
     "output_type": "error",
     "traceback": [
      "\u001b[0;31m---------------------------------------------------------------------------\u001b[0m",
      "\u001b[0;31mValueError\u001b[0m                                Traceback (most recent call last)",
      "\u001b[0;32m<ipython-input-10-e6ce5dbc79e7>\u001b[0m in \u001b[0;36m<module>\u001b[0;34m()\u001b[0m\n\u001b[1;32m     55\u001b[0m \u001b[0;34m\u001b[0m\u001b[0m\n\u001b[1;32m     56\u001b[0m \u001b[0;34m\u001b[0m\u001b[0m\n\u001b[0;32m---> 57\u001b[0;31m \u001b[0mpp\u001b[0m\u001b[0;34m.\u001b[0m\u001b[0mclassifier\u001b[0m\u001b[0;34m.\u001b[0m\u001b[0mfit\u001b[0m\u001b[0;34m(\u001b[0m\u001b[0mspace\u001b[0m\u001b[0;34m=\u001b[0m\u001b[0mspace\u001b[0m\u001b[0;34m,\u001b[0m \u001b[0mmax_evals\u001b[0m\u001b[0;34m=\u001b[0m\u001b[0;36m10\u001b[0m\u001b[0;34m,\u001b[0m \u001b[0mmongo\u001b[0m\u001b[0;34m=\u001b[0m\u001b[0mmongo\u001b[0m\u001b[0;34m)\u001b[0m\u001b[0;34m\u001b[0m\u001b[0m\n\u001b[0m",
      "\u001b[0;32m~/Documents/machine-learning/prior-metabric/prior-pipeline/prior_pipeline/services/classifier_service.py\u001b[0m in \u001b[0;36mfit\u001b[0;34m(cls, space, max_evals, mongo)\u001b[0m\n\u001b[1;32m     40\u001b[0m     \u001b[0;32mdef\u001b[0m \u001b[0mfit\u001b[0m\u001b[0;34m(\u001b[0m\u001b[0mcls\u001b[0m\u001b[0;34m,\u001b[0m \u001b[0mspace\u001b[0m\u001b[0;34m=\u001b[0m\u001b[0mdflt\u001b[0m\u001b[0;34m,\u001b[0m \u001b[0mmax_evals\u001b[0m\u001b[0;34m=\u001b[0m\u001b[0;36m100\u001b[0m\u001b[0;34m,\u001b[0m \u001b[0mmongo\u001b[0m\u001b[0;34m=\u001b[0m\u001b[0;32mNone\u001b[0m\u001b[0;34m)\u001b[0m\u001b[0;34m:\u001b[0m\u001b[0;34m\u001b[0m\u001b[0m\n\u001b[1;32m     41\u001b[0m         \u001b[0;32mif\u001b[0m \u001b[0mmongo\u001b[0m\u001b[0;34m:\u001b[0m\u001b[0;34m\u001b[0m\u001b[0m\n\u001b[0;32m---> 42\u001b[0;31m             \u001b[0mtrials\u001b[0m \u001b[0;34m=\u001b[0m \u001b[0mmongoexp\u001b[0m\u001b[0;34m.\u001b[0m\u001b[0mMongoTrials\u001b[0m\u001b[0;34m(\u001b[0m\u001b[0mmongo\u001b[0m\u001b[0;34m[\u001b[0m\u001b[0;34m'url'\u001b[0m\u001b[0;34m]\u001b[0m\u001b[0;34m,\u001b[0m \u001b[0mexp_key\u001b[0m\u001b[0;34m=\u001b[0m\u001b[0mmongo\u001b[0m\u001b[0;34m[\u001b[0m\u001b[0;34m'exp'\u001b[0m\u001b[0;34m]\u001b[0m\u001b[0;34m)\u001b[0m\u001b[0;34m\u001b[0m\u001b[0m\n\u001b[0m\u001b[1;32m     43\u001b[0m         \u001b[0;32melse\u001b[0m\u001b[0;34m:\u001b[0m\u001b[0;34m\u001b[0m\u001b[0m\n\u001b[1;32m     44\u001b[0m             \u001b[0mtrials\u001b[0m \u001b[0;34m=\u001b[0m \u001b[0mTrials\u001b[0m\u001b[0;34m(\u001b[0m\u001b[0;34m)\u001b[0m\u001b[0;34m\u001b[0m\u001b[0m\n",
      "\u001b[0;32m/usr/lib/python3.6/site-packages/hyperopt/mongoexp.py\u001b[0m in \u001b[0;36m__init__\u001b[0;34m(self, arg, exp_key, cmd, workdir, refresh)\u001b[0m\n\u001b[1;32m    662\u001b[0m         \u001b[0;32melse\u001b[0m\u001b[0;34m:\u001b[0m\u001b[0;34m\u001b[0m\u001b[0m\n\u001b[1;32m    663\u001b[0m             \u001b[0mconnection_string\u001b[0m \u001b[0;34m=\u001b[0m \u001b[0marg\u001b[0m\u001b[0;34m\u001b[0m\u001b[0m\n\u001b[0;32m--> 664\u001b[0;31m             \u001b[0mself\u001b[0m\u001b[0;34m.\u001b[0m\u001b[0mhandle\u001b[0m \u001b[0;34m=\u001b[0m \u001b[0mMongoJobs\u001b[0m\u001b[0;34m.\u001b[0m\u001b[0mnew_from_connection_str\u001b[0m\u001b[0;34m(\u001b[0m\u001b[0mconnection_string\u001b[0m\u001b[0;34m)\u001b[0m\u001b[0;34m\u001b[0m\u001b[0m\n\u001b[0m\u001b[1;32m    665\u001b[0m         \u001b[0mself\u001b[0m\u001b[0;34m.\u001b[0m\u001b[0mhandle\u001b[0m\u001b[0;34m.\u001b[0m\u001b[0mcreate_indexes\u001b[0m\u001b[0;34m(\u001b[0m\u001b[0;34m)\u001b[0m\u001b[0;34m\u001b[0m\u001b[0m\n\u001b[1;32m    666\u001b[0m         \u001b[0mself\u001b[0m\u001b[0;34m.\u001b[0m\u001b[0m_exp_key\u001b[0m \u001b[0;34m=\u001b[0m \u001b[0mexp_key\u001b[0m\u001b[0;34m\u001b[0m\u001b[0m\n",
      "\u001b[0;32m/usr/lib/python3.6/site-packages/hyperopt/mongoexp.py\u001b[0m in \u001b[0;36mnew_from_connection_str\u001b[0;34m(cls, conn_str, gfs_coll, config_name)\u001b[0m\n\u001b[1;32m    347\u001b[0m     \u001b[0;34m@\u001b[0m\u001b[0mclassmethod\u001b[0m\u001b[0;34m\u001b[0m\u001b[0m\n\u001b[1;32m    348\u001b[0m     \u001b[0;32mdef\u001b[0m \u001b[0mnew_from_connection_str\u001b[0m\u001b[0;34m(\u001b[0m\u001b[0mcls\u001b[0m\u001b[0;34m,\u001b[0m \u001b[0mconn_str\u001b[0m\u001b[0;34m,\u001b[0m \u001b[0mgfs_coll\u001b[0m\u001b[0;34m=\u001b[0m\u001b[0;34m'fs'\u001b[0m\u001b[0;34m,\u001b[0m \u001b[0mconfig_name\u001b[0m\u001b[0;34m=\u001b[0m\u001b[0;34m'spec'\u001b[0m\u001b[0;34m)\u001b[0m\u001b[0;34m:\u001b[0m\u001b[0;34m\u001b[0m\u001b[0m\n\u001b[0;32m--> 349\u001b[0;31m         \u001b[0mconnection\u001b[0m\u001b[0;34m,\u001b[0m \u001b[0mtunnel\u001b[0m\u001b[0;34m,\u001b[0m \u001b[0mdb\u001b[0m\u001b[0;34m,\u001b[0m \u001b[0mcoll\u001b[0m \u001b[0;34m=\u001b[0m \u001b[0mconnection_from_string\u001b[0m\u001b[0;34m(\u001b[0m\u001b[0mconn_str\u001b[0m\u001b[0;34m)\u001b[0m\u001b[0;34m\u001b[0m\u001b[0m\n\u001b[0m\u001b[1;32m    350\u001b[0m         \u001b[0mgfs\u001b[0m \u001b[0;34m=\u001b[0m \u001b[0mgridfs\u001b[0m\u001b[0;34m.\u001b[0m\u001b[0mGridFS\u001b[0m\u001b[0;34m(\u001b[0m\u001b[0mdb\u001b[0m\u001b[0;34m,\u001b[0m \u001b[0mcollection\u001b[0m\u001b[0;34m=\u001b[0m\u001b[0mgfs_coll\u001b[0m\u001b[0;34m)\u001b[0m\u001b[0;34m\u001b[0m\u001b[0m\n\u001b[1;32m    351\u001b[0m         \u001b[0;32mreturn\u001b[0m \u001b[0mcls\u001b[0m\u001b[0;34m(\u001b[0m\u001b[0mdb\u001b[0m\u001b[0;34m,\u001b[0m \u001b[0mcoll\u001b[0m\u001b[0;34m,\u001b[0m \u001b[0mgfs\u001b[0m\u001b[0;34m,\u001b[0m \u001b[0mconnection\u001b[0m\u001b[0;34m,\u001b[0m \u001b[0mtunnel\u001b[0m\u001b[0;34m,\u001b[0m \u001b[0mconfig_name\u001b[0m\u001b[0;34m)\u001b[0m\u001b[0;34m\u001b[0m\u001b[0m\n",
      "\u001b[0;32m/usr/lib/python3.6/site-packages/hyperopt/mongoexp.py\u001b[0m in \u001b[0;36mconnection_from_string\u001b[0;34m(s)\u001b[0m\n\u001b[1;32m    271\u001b[0m         \u001b[0mssh\u001b[0m \u001b[0;34m=\u001b[0m \u001b[0;32mTrue\u001b[0m\u001b[0;34m\u001b[0m\u001b[0m\n\u001b[1;32m    272\u001b[0m     \u001b[0;32melse\u001b[0m\u001b[0;34m:\u001b[0m\u001b[0;34m\u001b[0m\u001b[0m\n\u001b[0;32m--> 273\u001b[0;31m         \u001b[0;32mraise\u001b[0m \u001b[0mValueError\u001b[0m\u001b[0;34m(\u001b[0m\u001b[0;34m'unrecognized protocol for MongoJobs'\u001b[0m\u001b[0;34m,\u001b[0m \u001b[0mprotocol\u001b[0m\u001b[0;34m)\u001b[0m\u001b[0;34m\u001b[0m\u001b[0m\n\u001b[0m\u001b[1;32m    274\u001b[0m     connection, tunnel = connection_with_tunnel(\n\u001b[1;32m    275\u001b[0m         \u001b[0mdbname\u001b[0m\u001b[0;34m=\u001b[0m\u001b[0mdb\u001b[0m\u001b[0;34m,\u001b[0m\u001b[0;34m\u001b[0m\u001b[0m\n",
      "\u001b[0;31mValueError\u001b[0m: ('unrecognized protocol for MongoJobs', 'mongodb')"
     ]
    }
   ],
   "source": [
    "import prior_pipeline as pp\n",
    "\n",
    "from hyperopt import hp\n",
    "from sklearn.svm import SVC\n",
    "from sklearn.gaussian_process import GaussianProcessClassifier\n",
    "from sklearn.neural_network import MLPClassifier\n",
    "from sklearn.naive_bayes import GaussianNB\n",
    "from sklearn.gaussian_process.kernels import RBF\n",
    "\n",
    "\n",
    "mongo = {\n",
    "            'url': 'mongo://{}:{}@{}:27017/hyperopt/jobs'.format(mongo_user, mongo_pwd, mongo_host),\n",
    "            'exp': 'test_run'\n",
    "        }\n",
    "\n",
    "mongo = {\n",
    "            'url': 'mongo://{}:27017/hyperopt/jobs'.format(mongo_host),\n",
    "            'exp': 'test_run'\n",
    "        }\n",
    "\n",
    "data_paths = ['./data/TCGA_Metabric_RNA_TSNE_{}.csv'.format(i) for i in [3, 5, 10, 15, 20, 40, 50]]\n",
    "targets_path =  './data/TCGA_Metabric_2_years.csv'\n",
    "\n",
    "space = (hp.choice('model',\n",
    "        [\n",
    "            {\n",
    "                'name': SVC,\n",
    "                'params':{\n",
    "                    'probability':True\n",
    "                }\n",
    "            },\n",
    "#             {\n",
    "#                 'name': GaussianProcessClassifier,\n",
    "#                 'params': {\n",
    "#                     'kernel':  RBF(1),\n",
    "#                 }\n",
    "#             },\n",
    "            {\n",
    "                'name': GaussianNB\n",
    "            },\n",
    "#             {\n",
    "#             'name': MyMLPClassifier,\n",
    "#             'params': {\n",
    "#                 'activation': hp.choice('activation', ['tanh', 'relu']),\n",
    "#                 'alpha': hp.choice('alpha', [5e-2]),\n",
    "#                 'solver' : hp.choice('solver', ['adam', 'lbfgs', 'sgd']),\n",
    "#                 'learning_rate': hp.choice('learning_rate', ['constant', 'adaptive']),\n",
    "#                 'hidden_layer_width': hp.quniform('hidden_layer_width', 2, 300, 1),\n",
    "#                 'hidden_layer_depth': hp.quniform('hidden_layer_depth', 2, 4, 1)\n",
    "#             }\n",
    "#         }\n",
    "        ]),\n",
    "        hp.choice('data_path', data_paths),\n",
    "        targets_path)\n",
    "\n",
    "\n",
    "pp.classifier.fit(space=space, max_evals=10, mongo=mongo)"
   ]
  },
  {
   "cell_type": "code",
   "execution_count": null,
   "metadata": {},
   "outputs": [],
   "source": []
  },
  {
   "cell_type": "code",
   "execution_count": null,
   "metadata": {},
   "outputs": [],
   "source": []
  }
 ],
 "metadata": {
  "kernelspec": {
   "display_name": "Python 3",
   "language": "python",
   "name": "python3"
  },
  "language_info": {
   "codemirror_mode": {
    "name": "ipython",
    "version": 3
   },
   "file_extension": ".py",
   "mimetype": "text/x-python",
   "name": "python",
   "nbconvert_exporter": "python",
   "pygments_lexer": "ipython3",
   "version": "3.6.6"
  }
 },
 "nbformat": 4,
 "nbformat_minor": 2
}
