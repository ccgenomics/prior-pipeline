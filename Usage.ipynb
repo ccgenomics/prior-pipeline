{
 "cells": [
  {
   "cell_type": "code",
   "execution_count": null,
   "metadata": {},
   "outputs": [],
   "source": [
    "import pandas as pd"
   ]
  },
  {
   "cell_type": "markdown",
   "metadata": {},
   "source": [
    "# Prep some data"
   ]
  },
  {
   "cell_type": "code",
   "execution_count": 36,
   "metadata": {},
   "outputs": [],
   "source": [
    "clin = pd.read_csv('../data/data/TCGA_Metabric_clinical.csv', index_col=0)\n",
    "for target in list(clin):\n",
    "    kept = clin[~clin[target].isna()][[target]]\n",
    "    kept.to_csv('../data/TCGA_Metabric_'+target.replace(' ', '_')+'.csv')"
   ]
  },
  {
   "cell_type": "markdown",
   "metadata": {},
   "source": [
    "# Define custom models"
   ]
  },
  {
   "cell_type": "code",
   "execution_count": 12,
   "metadata": {},
   "outputs": [],
   "source": [
    "class MyMLPClassifier(MLPClassifier):\n",
    "    def __init__(self, hidden_layer_width=2, hidden_layer_depth=2, **kwargs):\n",
    "        hidden_layer_sizes = tuple([ int(hidden_layer_width)] * int(hidden_layer_depth))\n",
    "        super().__init__(hidden_layer_sizes=hidden_layer_sizes, **kwargs)\n"
   ]
  },
  {
   "cell_type": "code",
   "execution_count": 1,
   "metadata": {},
   "outputs": [],
   "source": []
  },
  {
   "cell_type": "markdown",
   "metadata": {},
   "source": [
    "# Import MongoDB credentials"
   ]
  },
  {
   "cell_type": "code",
   "execution_count": 3,
   "metadata": {},
   "outputs": [],
   "source": [
    "import csv\n",
    "with open('credentials.csv') as csvfile:\n",
    "    reader = csv.DictReader(csvfile)\n",
    "    for row in reader:\n",
    "        mongo_user = row['username']\n",
    "        mongo_pwd = row['pwd']\n",
    "        mongo_host = row['host']        "
   ]
  },
  {
   "cell_type": "markdown",
   "metadata": {},
   "source": [
    "# Usage"
   ]
  },
  {
   "cell_type": "code",
   "execution_count": null,
   "metadata": {},
   "outputs": [
    {
     "name": "stderr",
     "output_type": "stream",
     "text": [
      "over-writing old domain trials attachment\n"
     ]
    }
   ],
   "source": [
    "import prior_pipeline as pp\n",
    "\n",
    "from hyperopt import hp\n",
    "from sklearn.svm import SVC\n",
    "from sklearn.gaussian_process import GaussianProcessClassifier\n",
    "from sklearn.neural_network import MLPClassifier\n",
    "from sklearn.naive_bayes import GaussianNB\n",
    "from sklearn.gaussian_process.kernels import RBF\n",
    "\n",
    "from prior_pipeline.custom_models.my_mlp import MyMLPClassifier\n",
    "\n",
    "# mongo = {\n",
    "#             'url': 'mongo://{}:{}@{}:27017/hyperopt/jobs'.format(mongo_user, mongo_pwd, mongo_host),\n",
    "#             'exp': 'test_run'\n",
    "#         }\n",
    "\n",
    "mongo = {\n",
    "            'url': 'mongo://{}:27017/hyperopt/jobs'.format(mongo_host),\n",
    "            'exp': 'test_run_1'\n",
    "        }\n",
    "\n",
    "dims = [3, 5, 10, 15, 20, 40, 70]\n",
    "data_paths = ['../data_s3/TCGA_Metabric_RNA_TSNE_{}.csv'.format(i) for i in dims]\n",
    "targets_path =  '../data_s3/TCGA_Metabric_2_years.csv'\n",
    "\n",
    "space = (hp.choice('model',\n",
    "        [\n",
    "            {\n",
    "                'name': SVC,\n",
    "                'params':{\n",
    "                    'probability':True\n",
    "                }\n",
    "            },\n",
    "            {\n",
    "                'name': GaussianProcessClassifier,\n",
    "                'params': {\n",
    "                    'kernel':  RBF(1),\n",
    "                }\n",
    "            },\n",
    "            {\n",
    "                'name': GaussianNB\n",
    "            },\n",
    "            {\n",
    "                'name': MyMLPClassifier,\n",
    "#                 'params': {\n",
    "#                     'activation': hp.choice('activation', ['tanh', 'relu']),\n",
    "#                     'alpha': hp.choice('alpha', [5e-2]),\n",
    "#                     'solver' : hp.choice('solver', ['adam', 'lbfgs', 'sgd']),\n",
    "#                     'learning_rate': hp.choice('learning_rate', ['constant', 'adaptive']),\n",
    "#                     'hidden_layer_width': hp.quniform('hidden_layer_width', 2, 300, 1),\n",
    "#                     'hidden_layer_depth': hp.quniform('hidden_layer_depth', 2, 4, 1)\n",
    "#                 }\n",
    "            }\n",
    "        ]),\n",
    "        hp.choice('data_path', data_paths),\n",
    "        targets_path)\n",
    "\n",
    "\n",
    "best = pp.classifier.fit(space=space, max_evals=100, mongo=mongo)\n",
    "# best = pp.classifier.fit(space=space, max_evals=10)"
   ]
  },
  {
   "cell_type": "code",
   "execution_count": null,
   "metadata": {},
   "outputs": [],
   "source": []
  },
  {
   "cell_type": "code",
   "execution_count": 5,
   "metadata": {},
   "outputs": [],
   "source": [
    "import hyperopt\n",
    "trials = hyperopt.mongoexp.MongoTrials(mongo['url'], exp_key=mongo['exp'])"
   ]
  },
  {
   "cell_type": "code",
   "execution_count": 19,
   "metadata": {},
   "outputs": [
    {
     "data": {
      "text/plain": [
       "[None,\n",
       " 0.3313511066115411,\n",
       " 0.33817451755797534,\n",
       " 0.2998145572388784,\n",
       " 0.31272508522529296,\n",
       " 0.3362504882309154,\n",
       " 0.2998145572388784,\n",
       " 0.3313511066115411,\n",
       " 0.29828665922959297,\n",
       " 0.31272508522529296]"
      ]
     },
     "execution_count": 19,
     "metadata": {},
     "output_type": "execute_result"
    }
   ],
   "source": [
    "trials.losses()"
   ]
  },
  {
   "cell_type": "code",
   "execution_count": 20,
   "metadata": {},
   "outputs": [
    {
     "data": {
      "text/plain": [
       "[SON([('_id', ObjectId('5ba225f397b7ea5f194a58d4')), ('state', 1), ('tid', 9), ('spec', None), ('result', SON([('status', 'new')])), ('misc', SON([('tid', 9), ('cmd', ['domain_attachment', 'FMinIter_Domain']), ('workdir', None), ('idxs', SON([('data_path', [9]), ('model', [9])])), ('vals', SON([('data_path', [0]), ('model', [1])]))])), ('exp_key', 'test_run'), ('owner', ['archlinux:24740']), ('version', 0), ('book_time', datetime.datetime(2018, 9, 19, 10, 33, 25, 757000)), ('refresh_time', datetime.datetime(2018, 9, 19, 10, 33, 25, 757000))]),\n",
       " SON([('_id', ObjectId('5ba225f897b7ea5f194a58d5')), ('state', 2), ('tid', 10), ('spec', None), ('result', SON([('loss', 0.3313511066115411), ('status', 'ok')])), ('misc', SON([('tid', 10), ('cmd', ['domain_attachment', 'FMinIter_Domain']), ('workdir', None), ('idxs', SON([('data_path', [10]), ('model', [10])])), ('vals', SON([('data_path', [1]), ('model', [0])]))])), ('exp_key', 'test_run'), ('owner', ['archlinux:26251']), ('version', 3), ('book_time', datetime.datetime(2018, 9, 19, 10, 52, 26, 309000)), ('refresh_time', datetime.datetime(2018, 9, 19, 10, 52, 33, 732000))]),\n",
       " SON([('_id', ObjectId('5ba22a6c97b7ea5f194a58d9')), ('state', 2), ('tid', 11), ('spec', None), ('result', SON([('loss', 0.33817451755797534), ('status', 'ok')])), ('misc', SON([('tid', 11), ('cmd', ['domain_attachment', 'FMinIter_Domain']), ('workdir', None), ('idxs', SON([('data_path', [11]), ('model', [11])])), ('vals', SON([('data_path', [0]), ('model', [0])]))])), ('exp_key', 'test_run'), ('owner', ['archlinux:26265']), ('version', 3), ('book_time', datetime.datetime(2018, 9, 19, 10, 52, 35, 318000)), ('refresh_time', datetime.datetime(2018, 9, 19, 10, 52, 42, 948000))]),\n",
       " SON([('_id', ObjectId('5ba22a7597b7ea5f194a58da')), ('state', 2), ('tid', 12), ('spec', None), ('result', SON([('loss', 0.2998145572388784), ('status', 'ok')])), ('misc', SON([('tid', 12), ('cmd', ['domain_attachment', 'FMinIter_Domain']), ('workdir', None), ('idxs', SON([('data_path', [12]), ('model', [12])])), ('vals', SON([('data_path', [2]), ('model', [0])]))])), ('exp_key', 'test_run'), ('owner', ['archlinux:26285']), ('version', 3), ('book_time', datetime.datetime(2018, 9, 19, 10, 52, 44, 857000)), ('refresh_time', datetime.datetime(2018, 9, 19, 10, 52, 53, 36000))]),\n",
       " SON([('_id', ObjectId('5ba22a7f97b7ea5f194a58db')), ('state', 2), ('tid', 13), ('spec', None), ('result', SON([('loss', 0.31272508522529296), ('status', 'ok')])), ('misc', SON([('tid', 13), ('cmd', ['domain_attachment', 'FMinIter_Domain']), ('workdir', None), ('idxs', SON([('data_path', [13]), ('model', [13])])), ('vals', SON([('data_path', [2]), ('model', [1])]))])), ('exp_key', 'test_run'), ('owner', ['archlinux:26295']), ('version', 3), ('book_time', datetime.datetime(2018, 9, 19, 10, 52, 54, 890000)), ('refresh_time', datetime.datetime(2018, 9, 19, 10, 52, 57, 826000))]),\n",
       " SON([('_id', ObjectId('5ba22a8897b7ea5f194a58dc')), ('state', 2), ('tid', 14), ('spec', None), ('result', SON([('loss', 0.3362504882309154), ('status', 'ok')])), ('misc', SON([('tid', 14), ('cmd', ['domain_attachment', 'FMinIter_Domain']), ('workdir', None), ('idxs', SON([('data_path', [14]), ('model', [14])])), ('vals', SON([('data_path', [0]), ('model', [1])]))])), ('exp_key', 'test_run'), ('owner', ['archlinux:26310']), ('version', 3), ('book_time', datetime.datetime(2018, 9, 19, 10, 52, 59, 871000)), ('refresh_time', datetime.datetime(2018, 9, 19, 10, 53, 2, 777000))]),\n",
       " SON([('_id', ObjectId('5ba22a8d97b7ea5f194a58dd')), ('state', 2), ('tid', 15), ('spec', None), ('result', SON([('loss', 0.2998145572388784), ('status', 'ok')])), ('misc', SON([('tid', 15), ('cmd', ['domain_attachment', 'FMinIter_Domain']), ('workdir', None), ('idxs', SON([('data_path', [15]), ('model', [15])])), ('vals', SON([('data_path', [2]), ('model', [0])]))])), ('exp_key', 'test_run'), ('owner', ['archlinux:26328']), ('version', 3), ('book_time', datetime.datetime(2018, 9, 19, 10, 53, 4, 411000)), ('refresh_time', datetime.datetime(2018, 9, 19, 10, 53, 12, 573000))]),\n",
       " SON([('_id', ObjectId('5ba22a9297b7ea5f194a58de')), ('state', 2), ('tid', 16), ('spec', None), ('result', SON([('loss', 0.3313511066115411), ('status', 'ok')])), ('misc', SON([('tid', 16), ('cmd', ['domain_attachment', 'FMinIter_Domain']), ('workdir', None), ('idxs', SON([('data_path', [16]), ('model', [16])])), ('vals', SON([('data_path', [1]), ('model', [0])]))])), ('exp_key', 'test_run'), ('owner', ['archlinux:26344']), ('version', 3), ('book_time', datetime.datetime(2018, 9, 19, 10, 53, 14, 443000)), ('refresh_time', datetime.datetime(2018, 9, 19, 10, 53, 21, 806000))]),\n",
       " SON([('_id', ObjectId('5ba22a9c97b7ea5f194a58df')), ('state', 2), ('tid', 17), ('spec', None), ('result', SON([('loss', 0.29828665922959297), ('status', 'ok')])), ('misc', SON([('tid', 17), ('cmd', ['domain_attachment', 'FMinIter_Domain']), ('workdir', None), ('idxs', SON([('data_path', [17]), ('model', [17])])), ('vals', SON([('data_path', [1]), ('model', [1])]))])), ('exp_key', 'test_run'), ('owner', ['archlinux:26359']), ('version', 3), ('book_time', datetime.datetime(2018, 9, 19, 10, 53, 23, 481000)), ('refresh_time', datetime.datetime(2018, 9, 19, 10, 53, 26, 868000))]),\n",
       " SON([('_id', ObjectId('5ba22aa597b7ea5f194a58e0')), ('state', 2), ('tid', 18), ('spec', None), ('result', SON([('loss', 0.31272508522529296), ('status', 'ok')])), ('misc', SON([('tid', 18), ('cmd', ['domain_attachment', 'FMinIter_Domain']), ('workdir', None), ('idxs', SON([('data_path', [18]), ('model', [18])])), ('vals', SON([('data_path', [2]), ('model', [1])]))])), ('exp_key', 'test_run'), ('owner', ['archlinux:26416']), ('version', 3), ('book_time', datetime.datetime(2018, 9, 19, 10, 53, 28, 464000)), ('refresh_time', datetime.datetime(2018, 9, 19, 10, 53, 31, 344000))])]"
      ]
     },
     "execution_count": 20,
     "metadata": {},
     "output_type": "execute_result"
    }
   ],
   "source": [
    "trials.trials"
   ]
  },
  {
   "cell_type": "code",
   "execution_count": 11,
   "metadata": {},
   "outputs": [
    {
     "data": {
      "text/plain": [
       "({'name': sklearn.naive_bayes.GaussianNB},\n",
       " '../data/TCGA_Metabric_RNA_TSNE_5.csv',\n",
       " '../data/TCGA_Metabric_2_years.csv')"
      ]
     },
     "execution_count": 11,
     "metadata": {},
     "output_type": "execute_result"
    }
   ],
   "source": [
    "hyperopt.space_eval(space, trials.argmin)"
   ]
  },
  {
   "cell_type": "code",
   "execution_count": null,
   "metadata": {},
   "outputs": [],
   "source": []
  },
  {
   "cell_type": "code",
   "execution_count": null,
   "metadata": {},
   "outputs": [],
   "source": []
  }
 ],
 "metadata": {
  "kernelspec": {
   "display_name": "Python 3",
   "language": "python",
   "name": "python3"
  },
  "language_info": {
   "codemirror_mode": {
    "name": "ipython",
    "version": 3
   },
   "file_extension": ".py",
   "mimetype": "text/x-python",
   "name": "python",
   "nbconvert_exporter": "python",
   "pygments_lexer": "ipython3",
   "version": "3.6.6"
  }
 },
 "nbformat": 4,
 "nbformat_minor": 2
}
