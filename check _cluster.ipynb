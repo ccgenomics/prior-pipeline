{
 "cells": [
  {
   "cell_type": "code",
   "execution_count": 34,
   "metadata": {},
   "outputs": [],
   "source": [
    "import hyperopt.mongoexp as mgxp\n",
    "import csv\n",
    "with open('credentials.csv') as csvfile:\n",
    "    reader = csv.DictReader(csvfile)\n",
    "    for row in reader:\n",
    "        mongo_user = row['username']\n",
    "        mongo_pwd = row['pwd']\n",
    "        mongo_host = row['host']\n",
    "mongo = {\n",
    "            'url': 'mongo://{}:27017/hyperopt/jobs'.format(mongo_host),\n",
    "            'exp': 'funnel_run_1'\n",
    "        }\n",
    "trials = mgxp.MongoTrials(mongo['url'], exp_key=mongo['exp'])"
   ]
  },
  {
   "cell_type": "code",
   "execution_count": 35,
   "metadata": {},
   "outputs": [
    {
     "name": "stdout",
     "output_type": "stream",
     "text": [
      "Best AUC is 0.7097049165369527.\n",
      "Found with:\n",
      "{'activation': 0, 'alpha': 0, 'data_path': 1, 'input_layer': 171.0, 'learning_rate': 0, 'model': 0, 'num_hidden_layer': 3.0, 'output_layer': 292.0, 'solver': 2}\n"
     ]
    }
   ],
   "source": [
    "best_auc = 1 - trials.best_trial['result']['loss']\n",
    "print(\"Best AUC is {}.\\nFound with:\".format(best_auc))\n",
    "print(trials.argmin)"
   ]
  },
  {
   "cell_type": "code",
   "execution_count": null,
   "metadata": {},
   "outputs": [],
   "source": []
  },
  {
   "cell_type": "code",
   "execution_count": null,
   "metadata": {},
   "outputs": [],
   "source": []
  }
 ],
 "metadata": {
  "kernelspec": {
   "display_name": "Python 3",
   "language": "python",
   "name": "python3"
  },
  "language_info": {
   "codemirror_mode": {
    "name": "ipython",
    "version": 3
   },
   "file_extension": ".py",
   "mimetype": "text/x-python",
   "name": "python",
   "nbconvert_exporter": "python",
   "pygments_lexer": "ipython3",
   "version": "3.6.6"
  }
 },
 "nbformat": 4,
 "nbformat_minor": 2
}
